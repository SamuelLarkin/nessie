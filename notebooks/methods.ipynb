{
 "cells": [
  {
   "cell_type": "markdown",
   "metadata": {
    "collapsed": true,
    "pycharm": {
     "name": "#%% md\n"
    }
   },
   "source": [
    "# Methods\n",
    "\n",
    "We divide automatic methods for automatic error detection into two categories which we dub **flagger** and **scorer**.\n",
    "Flagging means that methods gives a dichotomous, binary judgement whether the label for an instance is correct or erroneous.\n",
    "Scoring methods on the other hand give a percentage estimate on how likely it is that an annotation is erroneous.\n",
    "These correspond to unranked and ranked evaluation from information retrieval and similarly require different evaluation metrics.\n",
    "\n",
    "**Flagger:**\n",
    "\n",
    "| **Abbreviation** | **Method**           | **Text** | **Token** | **Span** | **Proposed by**                                            |\n",
    "|------------------|----------------------|----------|-----------|----------|------------------------------------------------------------|\n",
    "| CL               | Confident Learning   | ✓        | ✓         | ✓        | Northcutt (2021)                                           |\n",
    "| CS               | Curriculum Spotter   | ✓        |           |          | Amiri (2018)                                               |\n",
    "| DE               | Diverse Ensemble     | ✓        | ✓         | ✓        | Loftsson (2009)                                            |\n",
    "| IRT              | Item Response Theory | ✓        | ✓         | ✓        | Rodriguez (2021)                                           |\n",
    "| LA               | Label Aggregation    | ✓        | ✓         | ✓        | Amiri (2018)                                               |\n",
    "| LS               | Leitner Spotter      | ✓        |           |          | Amiri (2018)                                               |\n",
    "| PE               | Projection Ensemble  | ✓        | ✓         | ✓        | Reiss (2020)                                               |\n",
    "| RE               | Retag                | ✓        | ✓         | ✓        | van Halteren (2000)                                        |\n",
    "| VN               | Variation n-Grams    |          | ✓         | ✓        | Dickinson (2003)                                           |\n",
    "\n",
    "**Scorer:**\n",
    "\n",
    "| **Abbreviation** | **Method**                 | **Text** | **Token** | **Span** | **Proposed by**                                            |\n",
    "|------------------|----------------------------|----------|-----------|----------|------------------------------------------------------------|\n",
    "| BC               | Borda Count                | ✓        | ✓         | ✓        | Larson (2020)                                              |\n",
    "| CU               | Classification Uncertainty | ✓        | ✓         | ✓        | Hendrycks (2017)                                           |\n",
    "| DM               | Data Map Confidence        | ✓        | ✓         | ✓        | Swayamdipta (2020)                                         |\n",
    "| DU               | Dropout Uncertainty        | ✓        | ✓         | ✓        | Amiri (2018)                                               |\n",
    "| KNN              | k-Nearest Neighbor Entropy | ✓        | ✓         | ✓        | Grivas (2020)                                              |\n",
    "| LE               | Label Entropy              |          | ✓         | ✓        | Hollenstein (2016)                                         |\n",
    "| MD               | Mean Distance              | ✓        | ✓         | ✓        | Larson (2019)                                              |\n",
    "| PM               | Prediction Margin          | ✓        | ✓         | ✓        | Dligach (2011)                                             |\n",
    "| WD               | Weighted Discrepancy       |          | ✓         | ✓        | Hollenstein (2016)                                         |\n",
    "\n",
    "We further divide methods by their means of annotation error detection and describe how to use each."
   ]
  },
  {
   "cell_type": "markdown",
   "metadata": {
    "pycharm": {
     "name": "#%% md\n"
    }
   },
   "source": [
    "## Tasks and data\n",
    "\n",
    "We focus on methods for text classification as well as token and span labeling, but our implementations should be easily adaptable to other tasks.\n",
    "We provide example datasets that can be used to test methods and understand the data formats used."
   ]
  },
  {
   "cell_type": "code",
   "execution_count": 1,
   "metadata": {
    "pycharm": {
     "is_executing": true,
     "name": "#%%\n"
    }
   },
   "outputs": [],
   "source": [
    "# Some imports\n",
    "import awkward as ak"
   ]
  },
  {
   "cell_type": "code",
   "execution_count": 2,
   "metadata": {
    "pycharm": {
     "name": "#%%\n"
    }
   },
   "outputs": [],
   "source": [
    "from nessie.dataloader import load_example_text_classification_data, load_example_token_labeling_data\n",
    "\n",
    "text_data = load_example_text_classification_data().subset(100)\n",
    "\n",
    "token_data = load_example_token_labeling_data().subset(100)\n",
    "token_data_flat = token_data.flatten() # Most methods need flat and not nested inputs, therefore, we flatten results here"
   ]
  },
  {
   "cell_type": "code",
   "execution_count": 3,
   "metadata": {},
   "outputs": [],
   "source": [
    "# Span\n",
    "from nessie.dataloader import load_example_span_classification_data\n",
    "from seqeval.metrics.sequence_labeling import get_entities\n",
    "\n",
    "span_data = load_example_span_classification_data().subset(100)\n",
    "span_data_flat = span_data.flatten() # Most methods need flat and not nested inputs, therefore, we flatten results here\n",
    "span_noisy_entities = [e[0] for e in get_entities(span_data.noisy_labels.tolist())]"
   ]
  },
  {
   "cell_type": "markdown",
   "metadata": {
    "pycharm": {
     "name": "#%% md\n"
    }
   },
   "source": [
    "Different tasks have a different form of their inputs and output dimensions. For instance, token and span labeling typically are given as ragged/nested arrays, that is arrays of a varying second dimension (because the number of tokens is different per sentence). These are flattened when passed to most general methods and unflattened to their original shape. For span labeling, we also work on span-level and not on (BIO) tag level, therefore, spans need to be extracted and outputs from models need to be aggregated from token to spans. We also need to align predictions of models with the given span labels, as they can differ due to different boundary predictions. `nessie` provides helper functions for these operations."
   ]
  },
  {
   "cell_type": "markdown",
   "metadata": {
    "pycharm": {
     "name": "#%% md\n"
    }
   },
   "source": [
    "##  Variation based\n",
    "\n",
    "Methods based on the variation principle leverage the observation that similar surface forms are often only annotated with one or a few distinct labels.\n",
    "If an instance is annotated with a different, rarer label, then it is more often than not an annotation error or an inconsistency.\n",
    "Variation based methods are relatively easy to implement and can be used in settings for which it is difficult to train a machine learning model, being it because of low-resource scenarios or a task that is difficult to train models on.\n",
    "Their main disadvantage though is that they need overlapping surface forms to perform well, which is not the case in settings like text classification or datasets with diverse instances."
   ]
  },
  {
   "cell_type": "markdown",
   "metadata": {
    "pycharm": {
     "name": "#%% md\n"
    }
   },
   "source": [
    "### Variation n-grams\n",
    "\n",
    "For each instance, n-gram contexts of different sizes are collected and compared to others.\n",
    "If the label for an instance disagrees with labels from other instances in the same context, then it is considered an error."
   ]
  },
  {
   "cell_type": "code",
   "execution_count": 4,
   "metadata": {
    "pycharm": {
     "name": "#%%\n"
    }
   },
   "outputs": [
    {
     "name": "stderr",
     "output_type": "stream",
     "text": [
      "100%|███████████████████████████████████████████████████████████████████████████████████████████████████████████████████████████████████████████████████████████████████████| 100/100 [00:00<00:00, 1470.61it/s]\n"
     ]
    }
   ],
   "source": [
    "# Token classification\n",
    "from nessie.detectors import VariationNGrams\n",
    "\n",
    "detector = VariationNGrams()\n",
    "flags = detector.score(sentences=token_data.sentences, tags=token_data.noisy_labels)"
   ]
  },
  {
   "cell_type": "code",
   "execution_count": 5,
   "metadata": {
    "pycharm": {
     "name": "#%%\n"
    }
   },
   "outputs": [],
   "source": [
    "# Span classification\n",
    "from nessie.detectors import VariationNGramsSpan\n",
    "\n",
    "detector = VariationNGramsSpan()\n",
    "flagged_spans = detector.score(sentences=span_data.sentences, tags=span_data.noisy_labels)"
   ]
  },
  {
   "cell_type": "markdown",
   "metadata": {
    "pycharm": {
     "name": "#%% md\n"
    }
   },
   "source": [
    "## Model Based\n",
    "\n",
    "Machine learning models trained on the to-be-corrected dataset can be used to find annotation errors.\n",
    "Models in this context are usually trained via cross-validation and the respective holdout set is used to detect errors.\n",
    "After all folds have been used as holdout, the complete dataset is analyzed.\n",
    "The training itself is not part of the method and is not altered by it, in contrast to other methods like the ones based on training dynamics.\n",
    "Several ways have been devised for model-based annotation error detection, which are described in the following.\n",
    "As the name implies, m-based annotation detection methods need trained models to obtain predictions or probabilities.\n",
    "We already implemented the most common models for you to be ready to use.\n",
    "We provide the following models:\n",
    "\n",
    "**Text classification:**\n",
    "\n",
    "| Class name                | Description                                   |\n",
    "|---------------------------|-----------------------------------------------|\n",
    "| FastTextTextClassifier    | Fasttext                                      |\n",
    "| FlairTextClassifier       | Flair                                         |\n",
    "| LgbmTextClassifier        | LightGBM with handcrafted features            |\n",
    "| LgbmTextClassifier        | LightGBM with S-BERT features                 |\n",
    "| MaxEntTextClassifier      | Logistic Regression with handcrafted features |\n",
    "| MaxEntTextClassifier      | Logistic with S-BERT features                 |\n",
    "| TransformerTextClassifier | Transformers                                  |\n",
    "\n",
    "**Sequence Classification:**\n",
    "\n",
    "| Class name                | Description                   |\n",
    "|---------------------------|-------------------------------|\n",
    "| FlairSequenceTagger       | Flair                         |\n",
    "| CrfSequenceTagger         | CRF with handcrafted features |\n",
    "| MaxEntSequenceTagger      | Maxent sequence tagger        |\n",
    "| TransformerSequenceTagger | Transformer                   |\n",
    "\n",
    "You can add your own models by implementing the respective abstract class for TextClassifier or SequenceTagger.\n",
    "Models are typicall trained via cross-validation, for which we provide a helper class."
   ]
  },
  {
   "cell_type": "code",
   "execution_count": 6,
   "metadata": {
    "pycharm": {
     "name": "#%%\n"
    }
   },
   "outputs": [],
   "source": [
    "from nessie.helper import CrossValidationHelper\n",
    "from nessie.models.text import DummyTextClassifier\n",
    "from nessie.models.tagging import DummySequenceTagger\n",
    "\n",
    "num_splits = 3 # Usually 10 is a good number, we use 3 for simplicity\n",
    "\n",
    "# Text\n",
    "cv = CrossValidationHelper(n_splits=num_splits)\n",
    "tc_result = cv.run(text_data.texts, text_data.noisy_labels, DummyTextClassifier())\n",
    "\n",
    "# Token\n",
    "cv = CrossValidationHelper(n_splits=num_splits)\n",
    "tl_result = cv.run_for_ragged(token_data.sentences, token_data.noisy_labels, DummySequenceTagger())\n",
    "tl_result_flat = tl_result.flatten() # Most methods need flat and not nested inputs, therefore, we flatten results here\n",
    "\n",
    "# Span\n",
    "from nessie.task_support.span_labeling import align_span_labeling_result\n",
    "cv = CrossValidationHelper(n_splits=num_splits)\n",
    "sl_result = cv.run_for_ragged(span_data.sentences, span_data.noisy_labels, DummySequenceTagger())\n",
    "# We extract spans from BIO tags, align them with model predictions and aggregate token level probabilities to span level\n",
    "sl_result = align_span_labeling_result(span_data.noisy_labels, sl_result)"
   ]
  },
  {
   "cell_type": "markdown",
   "metadata": {
    "pycharm": {
     "name": "#%% md\n"
    }
   },
   "source": [
    "### Retag\n",
    "\n",
    "A simple way to use a trained model for annotation error detection is to use model predictions directly; when disagreeing with the given labels to correct, instances are flagged as annotation errors."
   ]
  },
  {
   "cell_type": "code",
   "execution_count": 7,
   "metadata": {
    "pycharm": {
     "name": "#%%\n"
    }
   },
   "outputs": [],
   "source": [
    "from nessie.detectors import Retag\n",
    "\n",
    "detector = Retag()\n",
    "\n",
    "# Text\n",
    "flags = detector.score(text_data.noisy_labels, tc_result.predictions)\n",
    "\n",
    "# Token\n",
    "flags_flat = detector.score(token_data_flat.noisy_labels, tl_result_flat.predictions)\n",
    "flags = ak.unflatten(flags_flat, token_data.sizes)\n",
    "\n",
    "# Span\n",
    "flags = detector.score(sl_result.labels, sl_result.predictions)"
   ]
  },
  {
   "cell_type": "markdown",
   "metadata": {
    "pycharm": {
     "name": "#%%\n"
    }
   },
   "source": [
    "### Classification Uncertainty\n",
    "\n",
    "Probabilistic classification models assign probabilities which are typically higher for instances that are correctly labeled compared to erroneous ones. Therefore, the class probabilities of the noisy labels can be used to score these for being an annotation error."
   ]
  },
  {
   "cell_type": "code",
   "execution_count": 8,
   "metadata": {},
   "outputs": [],
   "source": [
    "from nessie.detectors import ClassificationUncertainty\n",
    "\n",
    "detector = ClassificationUncertainty()\n",
    "\n",
    "# Text\n",
    "scores_cu_text = detector.score(labels=text_data.noisy_labels, probabilities=tc_result.probabilities, le=tc_result.le)\n",
    "\n",
    "# Token\n",
    "scores_cu_token_flat = detector.score(labels=token_data_flat.noisy_labels, probabilities=tl_result_flat.probabilities, le=tl_result_flat.le)\n",
    "scores_cu_token = ak.unflatten(scores_cu_token_flat, token_data.sizes)\n",
    "\n",
    "# Span\n",
    "scores_cu_span = detector.score(labels=sl_result.labels, probabilities=sl_result.probabilities, le=sl_result.le)"
   ]
  },
  {
   "cell_type": "markdown",
   "metadata": {},
   "source": [
    "### Prediction Margin\n",
    "\n",
    "Inspired by active learning,  *Prediction Margin* uses the probabilities of the two highest scoring labels for an instance.\n",
    "The resulting score is simply their difference.\n",
    "The intuition behind this is that samples with smaller margin are more likely to be an annotation error, since the smaller the decision margin is the more unsure the model was."
   ]
  },
  {
   "cell_type": "code",
   "execution_count": 9,
   "metadata": {},
   "outputs": [],
   "source": [
    "from nessie.detectors import PredictionMargin\n",
    "\n",
    "detector = PredictionMargin()\n",
    "\n",
    "# Text\n",
    "scores_pm_text = detector.score(labels=text_data.noisy_labels, probabilities=tc_result.probabilities, le=tc_result.le)\n",
    "\n",
    "# Token\n",
    "scores_pm_token_flat = detector.score(labels=token_data_flat.noisy_labels, probabilities=tl_result_flat.probabilities, le=tl_result_flat.le)\n",
    "scores_pm_token = ak.unflatten(scores_pm_token_flat, token_data.sizes)\n",
    "\n",
    "# Span\n",
    "scores_pm_span = detector.score(labels=sl_result.labels, probabilities=sl_result.probabilities, le=sl_result.le)"
   ]
  },
  {
   "cell_type": "markdown",
   "metadata": {},
   "source": [
    "### Confident Learning\n",
    "\n",
    "This method estimates the joint distribution of noisy and true labels. A threshold is then learnt (the average self-confidence) and instances whose computed probability of having the correct label is below the respective threshold are flagged as erroneous."
   ]
  },
  {
   "cell_type": "code",
   "execution_count": 10,
   "metadata": {},
   "outputs": [],
   "source": [
    "from nessie.detectors import ConfidentLearning\n",
    "\n",
    "detector = ConfidentLearning()\n",
    "\n",
    "# Text\n",
    "flags = detector.score(labels=text_data.noisy_labels, probabilities=tc_result.probabilities, le=tc_result.le)\n",
    "\n",
    "# Token\n",
    "flags_flat = detector.score(labels=token_data_flat.noisy_labels, probabilities=tl_result_flat.probabilities, le=tl_result_flat.le)\n",
    "flags = ak.unflatten(flags_flat, token_data.sizes)\n",
    "\n",
    "# Span\n",
    "flags = detector.score(labels=sl_result.labels, probabilities=sl_result.probabilities, le=sl_result.le)"
   ]
  },
  {
   "cell_type": "markdown",
   "metadata": {},
   "source": [
    "### Dropout Uncertainty\n",
    "\n",
    "This method uses Monte Carlo dropout, that is, dropout during inference over several runs with different seeds to estimate the uncertainty of an underlying model. There are different acquisition methods to compute uncertainty from the stochastic passes, we use entropy over runs."
   ]
  },
  {
   "cell_type": "code",
   "execution_count": null,
   "metadata": {},
   "outputs": [],
   "source": [
    "from nessie.detectors import DropoutUncertainty\n",
    "\n",
    "detector = DropoutUncertainty()\n",
    "\n",
    "# Text\n",
    "scores_du_text = detector.score(tc_result.repeated_probabilities)\n",
    "\n",
    "# Token\n",
    "scores_du_token_flat = detector.score(token_data_flat.repeated_probabilities)\n",
    "scores_du_token = ak.unflatten(scores_du_token_flat, token_data.sizes)\n",
    "\n",
    "# Span\n",
    "scores_du_span = detector.score(sl_result.repeated_probabilities)"
   ]
  },
  {
   "cell_type": "markdown",
   "metadata": {},
   "source": [
    "### Label Aggregation\n",
    "\n",
    "Given repeated predictions obtained via *Monte Carlo Dropout*, one can use aggregation techniques from crowdsourcing like Dawid-Skene or MACE to adjudicate the resulting repeated predictions."
   ]
  },
  {
   "cell_type": "code",
   "execution_count": 11,
   "metadata": {},
   "outputs": [
    {
     "name": "stdout",
     "output_type": "stream",
     "text": [
      "ERROR! Session/line number was not unique in database. History logging moved to new session 95\n"
     ]
    }
   ],
   "source": [
    "from nessie.detectors import LabelAggregation\n",
    "\n",
    "detector = LabelAggregation()\n",
    "\n",
    "# Text\n",
    "flags = detector.score(labels=text_data.noisy_labels, repeated_probabilities=tc_result.repeated_probabilities, le=tc_result.le)\n",
    "\n",
    "# Token\n",
    "flags_flat = detector.score(labels=token_data_flat.noisy_labels, repeated_probabilities=tl_result_flat.repeated_probabilities, le=tl_result_flat.le)\n",
    "flags = ak.unflatten(flags_flat, token_data.sizes)\n",
    "\n",
    "# Span\n",
    "flags = detector.score(labels=sl_result.labels, repeated_probabilities=sl_result.repeated_probabilities, le=sl_result.le)"
   ]
  },
  {
   "cell_type": "markdown",
   "metadata": {},
   "source": [
    "## Training Dynamics\n",
    "\n",
    "Methods based on training dynamics use information derived from how a model behaves during training and how predictions change over the course of its training. The assumption behind both of these methods is that instances that are perceived harder or misqualified more frequently are more often annotation errors than easier ones.\n",
    "\n",
    "*Curriculum Spotter* and *Leitner Spotter* require that the instances can be scheduled independently. This is  for instance not the case for sequence labeling, as the model trains on complete sentences and not individual tokens or span. Even if they have different difficulties, they would end up in the same batch nonetheless.\n",
    "\n",
    "The implementation requires access to information during training, which is solved via callbacks. As only transformers have this avaiable, we only implmenet training dynamic methods for transformers."
   ]
  },
  {
   "cell_type": "markdown",
   "metadata": {},
   "source": [
    "### Curriculum Spotter\n",
    "\n",
    "This trains a model via curriculum learning, where the network trains on easier instances during earlier epochs and is then gradually introduced to harder instances.\n",
    "Instances then are ranked by how hard they were perceived during training. "
   ]
  },
  {
   "cell_type": "code",
   "execution_count": 12,
   "metadata": {},
   "outputs": [
    {
     "name": "stderr",
     "output_type": "stream",
     "text": [
      "Some weights of the model checkpoint at distilroberta-base were not used when initializing RobertaForSequenceClassification: ['lm_head.layer_norm.weight', 'roberta.pooler.dense.weight', 'lm_head.dense.weight', 'lm_head.decoder.weight', 'lm_head.layer_norm.bias', 'roberta.pooler.dense.bias', 'lm_head.bias', 'lm_head.dense.bias']\n",
      "- This IS expected if you are initializing RobertaForSequenceClassification from the checkpoint of a model trained on another task or with another architecture (e.g. initializing a BertForSequenceClassification model from a BertForPreTraining model).\n",
      "- This IS NOT expected if you are initializing RobertaForSequenceClassification from the checkpoint of a model that you expect to be exactly identical (initializing a BertForSequenceClassification model from a BertForSequenceClassification model).\n",
      "Some weights of RobertaForSequenceClassification were not initialized from the model checkpoint at distilroberta-base and are newly initialized: ['classifier.dense.weight', 'classifier.out_proj.weight', 'classifier.dense.bias', 'classifier.out_proj.bias']\n",
      "You should probably TRAIN this model on a down-stream task to be able to use it for predictions and inference.\n",
      "C:\\Users\\klie\\AppData\\Local\\pypoetry\\Cache\\virtualenvs\\nessie-gg3F2hhp-py3.8\\lib\\site-packages\\transformers\\optimization.py:306: FutureWarning: This implementation of AdamW is deprecated and will be removed in a future version. Use thePyTorch implementation torch.optim.AdamW instead, or set `no_deprecation_warning=True` to disable this warning\n",
      "  warnings.warn(\n",
      "***** Running training *****\n",
      "  Num examples = 100\n",
      "  Num Epochs = 2\n",
      "  Instantaneous batch size per device = 16\n",
      "  Total train batch size (w. parallel, distributed & accumulation) = 16\n",
      "  Gradient Accumulation steps = 1\n",
      "  Total optimization steps = 14\n"
     ]
    },
    {
     "data": {
      "text/html": [
       "\n",
       "    <div>\n",
       "      \n",
       "      <progress value='14' max='14' style='width:300px; height:20px; vertical-align: middle;'></progress>\n",
       "      [14/14 00:18, Epoch 2/2]\n",
       "    </div>\n",
       "    <table border=\"1\" class=\"dataframe\">\n",
       "  <thead>\n",
       " <tr style=\"text-align: left;\">\n",
       "      <th>Epoch</th>\n",
       "      <th>Training Loss</th>\n",
       "      <th>Validation Loss</th>\n",
       "      <th>Accuracy</th>\n",
       "    </tr>\n",
       "  </thead>\n",
       "  <tbody>\n",
       "    <tr>\n",
       "      <td>1</td>\n",
       "      <td>0.578400</td>\n",
       "      <td>0.389561</td>\n",
       "      <td>0.870000</td>\n",
       "    </tr>\n",
       "    <tr>\n",
       "      <td>2</td>\n",
       "      <td>0.414700</td>\n",
       "      <td>0.441604</td>\n",
       "      <td>0.870000</td>\n",
       "    </tr>\n",
       "  </tbody>\n",
       "</table><p>"
      ],
      "text/plain": [
       "<IPython.core.display.HTML object>"
      ]
     },
     "metadata": {},
     "output_type": "display_data"
    },
    {
     "name": "stderr",
     "output_type": "stream",
     "text": [
      "PyTorch: setting up devices\n",
      "***** Running Prediction *****\n",
      "  Num examples = 100\n",
      "  Batch size = 64\n",
      "***** Running Evaluation *****\n",
      "  Num examples = 100\n",
      "  Batch size = 64\n",
      "Saving model checkpoint to C:\\Users\\klie\\AppData\\Local\\Temp\\tmpka3blu00\\checkpoint-7\n",
      "Configuration saved in C:\\Users\\klie\\AppData\\Local\\Temp\\tmpka3blu00\\checkpoint-7\\config.json\n",
      "Model weights saved in C:\\Users\\klie\\AppData\\Local\\Temp\\tmpka3blu00\\checkpoint-7\\pytorch_model.bin\n",
      "PyTorch: setting up devices\n",
      "***** Running Prediction *****\n",
      "  Num examples = 100\n",
      "  Batch size = 64\n",
      "***** Running Evaluation *****\n",
      "  Num examples = 100\n",
      "  Batch size = 64\n",
      "Saving model checkpoint to C:\\Users\\klie\\AppData\\Local\\Temp\\tmpka3blu00\\checkpoint-14\n",
      "Configuration saved in C:\\Users\\klie\\AppData\\Local\\Temp\\tmpka3blu00\\checkpoint-14\\config.json\n",
      "Model weights saved in C:\\Users\\klie\\AppData\\Local\\Temp\\tmpka3blu00\\checkpoint-14\\pytorch_model.bin\n",
      "\n",
      "\n",
      "Training completed. Do not forget to share your model on huggingface.co/models =)\n",
      "\n",
      "\n",
      "Loading best model from C:\\Users\\klie\\AppData\\Local\\Temp\\tmpka3blu00\\checkpoint-7 (score: 0.87).\n",
      "PyTorch: setting up devices\n",
      "***** Running Prediction *****\n",
      "  Num examples = 100\n",
      "  Batch size = 64\n"
     ]
    }
   ],
   "source": [
    "from nessie.detectors import CurriculumSpotter\n",
    "\n",
    "detector = CurriculumSpotter(max_epochs=2)\n",
    "scores_cs_text = detector.score(texts=text_data.texts, labels=text_data.noisy_labels)"
   ]
  },
  {
   "cell_type": "markdown",
   "metadata": {},
   "source": [
    "### Leitner Spotter\n",
    "\n",
    "This method adapts the idea of the Zettelkasten to model training.\n",
    "There, difficult instances are presented more often during training than easier ones."
   ]
  },
  {
   "cell_type": "code",
   "execution_count": 13,
   "metadata": {},
   "outputs": [
    {
     "name": "stderr",
     "output_type": "stream",
     "text": [
      "Could not locate the tokenizer configuration file, will try to use the model config instead.\n",
      "loading configuration file https://huggingface.co/distilroberta-base/resolve/main/config.json from cache at C:\\Users\\klie/.cache\\huggingface\\transformers\\42d6b7c87cbac84fcdf35aa69504a5ccfca878fcee2a1a9b9ff7a3d1297f9094.aa95727ac70adfa1aaf5c88bea30a4f5e50869c68e68bce96ef1ec41b5facf46\n",
      "Model config RobertaConfig {\n",
      "  \"_name_or_path\": \"distilroberta-base\",\n",
      "  \"architectures\": [\n",
      "    \"RobertaForMaskedLM\"\n",
      "  ],\n",
      "  \"attention_probs_dropout_prob\": 0.1,\n",
      "  \"bos_token_id\": 0,\n",
      "  \"classifier_dropout\": null,\n",
      "  \"eos_token_id\": 2,\n",
      "  \"hidden_act\": \"gelu\",\n",
      "  \"hidden_dropout_prob\": 0.1,\n",
      "  \"hidden_size\": 768,\n",
      "  \"initializer_range\": 0.02,\n",
      "  \"intermediate_size\": 3072,\n",
      "  \"layer_norm_eps\": 1e-05,\n",
      "  \"max_position_embeddings\": 514,\n",
      "  \"model_type\": \"roberta\",\n",
      "  \"num_attention_heads\": 12,\n",
      "  \"num_hidden_layers\": 6,\n",
      "  \"pad_token_id\": 1,\n",
      "  \"position_embedding_type\": \"absolute\",\n",
      "  \"transformers_version\": \"4.16.1\",\n",
      "  \"type_vocab_size\": 1,\n",
      "  \"use_cache\": true,\n",
      "  \"vocab_size\": 50265\n",
      "}\n",
      "\n",
      "loading file https://huggingface.co/distilroberta-base/resolve/main/vocab.json from cache at C:\\Users\\klie/.cache\\huggingface\\transformers\\23e0f7484fc8a320856b168861166b48c2976bb4e0861602422e1b0c3fe5bf61.d67d6b367eb24ab43b08ad55e014cf254076934f71d832bbab9ad35644a375ab\n",
      "loading file https://huggingface.co/distilroberta-base/resolve/main/merges.txt from cache at C:\\Users\\klie/.cache\\huggingface\\transformers\\c7e8020011da613ff5a9175ddad64cd47238a9525db975eb50ecb965e9f7302f.5d12962c5ee615a4c803841266e9c3be9a691a924f72d395d3a6c6c81157788b\n",
      "loading file https://huggingface.co/distilroberta-base/resolve/main/tokenizer.json from cache at C:\\Users\\klie/.cache\\huggingface\\transformers\\b6a9ca6504e67903474c3fdf82ba249882406e61c2176a9d4dc9c3691c663767.fc9576039592f026ad76a1c231b89aee8668488c671dfbe6616bab2ed298d730\n",
      "loading file https://huggingface.co/distilroberta-base/resolve/main/added_tokens.json from cache at None\n",
      "loading file https://huggingface.co/distilroberta-base/resolve/main/special_tokens_map.json from cache at None\n",
      "loading file https://huggingface.co/distilroberta-base/resolve/main/tokenizer_config.json from cache at None\n",
      "loading configuration file https://huggingface.co/distilroberta-base/resolve/main/config.json from cache at C:\\Users\\klie/.cache\\huggingface\\transformers\\42d6b7c87cbac84fcdf35aa69504a5ccfca878fcee2a1a9b9ff7a3d1297f9094.aa95727ac70adfa1aaf5c88bea30a4f5e50869c68e68bce96ef1ec41b5facf46\n",
      "Model config RobertaConfig {\n",
      "  \"_name_or_path\": \"distilroberta-base\",\n",
      "  \"architectures\": [\n",
      "    \"RobertaForMaskedLM\"\n",
      "  ],\n",
      "  \"attention_probs_dropout_prob\": 0.1,\n",
      "  \"bos_token_id\": 0,\n",
      "  \"classifier_dropout\": null,\n",
      "  \"eos_token_id\": 2,\n",
      "  \"hidden_act\": \"gelu\",\n",
      "  \"hidden_dropout_prob\": 0.1,\n",
      "  \"hidden_size\": 768,\n",
      "  \"initializer_range\": 0.02,\n",
      "  \"intermediate_size\": 3072,\n",
      "  \"layer_norm_eps\": 1e-05,\n",
      "  \"max_position_embeddings\": 514,\n",
      "  \"model_type\": \"roberta\",\n",
      "  \"num_attention_heads\": 12,\n",
      "  \"num_hidden_layers\": 6,\n",
      "  \"pad_token_id\": 1,\n",
      "  \"position_embedding_type\": \"absolute\",\n",
      "  \"transformers_version\": \"4.16.1\",\n",
      "  \"type_vocab_size\": 1,\n",
      "  \"use_cache\": true,\n",
      "  \"vocab_size\": 50265\n",
      "}\n",
      "\n",
      "loading configuration file https://huggingface.co/distilroberta-base/resolve/main/config.json from cache at C:\\Users\\klie/.cache\\huggingface\\transformers\\42d6b7c87cbac84fcdf35aa69504a5ccfca878fcee2a1a9b9ff7a3d1297f9094.aa95727ac70adfa1aaf5c88bea30a4f5e50869c68e68bce96ef1ec41b5facf46\n",
      "Model config RobertaConfig {\n",
      "  \"_name_or_path\": \"distilroberta-base\",\n",
      "  \"architectures\": [\n",
      "    \"RobertaForMaskedLM\"\n",
      "  ],\n",
      "  \"attention_probs_dropout_prob\": 0.1,\n",
      "  \"bos_token_id\": 0,\n",
      "  \"classifier_dropout\": 0.25,\n",
      "  \"eos_token_id\": 2,\n",
      "  \"hidden_act\": \"gelu\",\n",
      "  \"hidden_dropout_prob\": 0.1,\n",
      "  \"hidden_size\": 768,\n",
      "  \"initializer_range\": 0.02,\n",
      "  \"intermediate_size\": 3072,\n",
      "  \"layer_norm_eps\": 1e-05,\n",
      "  \"max_position_embeddings\": 514,\n",
      "  \"model_type\": \"roberta\",\n",
      "  \"num_attention_heads\": 12,\n",
      "  \"num_hidden_layers\": 6,\n",
      "  \"pad_token_id\": 1,\n",
      "  \"position_embedding_type\": \"absolute\",\n",
      "  \"transformers_version\": \"4.16.1\",\n",
      "  \"type_vocab_size\": 1,\n",
      "  \"use_cache\": true,\n",
      "  \"vocab_size\": 50265\n",
      "}\n",
      "\n",
      "loading weights file https://huggingface.co/distilroberta-base/resolve/main/pytorch_model.bin from cache at C:\\Users\\klie/.cache\\huggingface\\transformers\\7a0115a4c463f49bc7ab011872fc4a4b81be681a0434075955d29ac3388e225b.a6127d76576e81475313180aceb31a8688f7a649b80e380d26b5d30302dc83c1\n",
      "Some weights of the model checkpoint at distilroberta-base were not used when initializing RobertaForSequenceClassification: ['lm_head.layer_norm.weight', 'roberta.pooler.dense.weight', 'lm_head.dense.weight', 'lm_head.decoder.weight', 'lm_head.layer_norm.bias', 'roberta.pooler.dense.bias', 'lm_head.bias', 'lm_head.dense.bias']\n",
      "- This IS expected if you are initializing RobertaForSequenceClassification from the checkpoint of a model trained on another task or with another architecture (e.g. initializing a BertForSequenceClassification model from a BertForPreTraining model).\n",
      "- This IS NOT expected if you are initializing RobertaForSequenceClassification from the checkpoint of a model that you expect to be exactly identical (initializing a BertForSequenceClassification model from a BertForSequenceClassification model).\n",
      "Some weights of RobertaForSequenceClassification were not initialized from the model checkpoint at distilroberta-base and are newly initialized: ['classifier.dense.weight', 'classifier.out_proj.weight', 'classifier.dense.bias', 'classifier.out_proj.bias']\n",
      "You should probably TRAIN this model on a down-stream task to be able to use it for predictions and inference.\n",
      "PyTorch: setting up devices\n",
      "C:\\Users\\klie\\AppData\\Local\\pypoetry\\Cache\\virtualenvs\\nessie-gg3F2hhp-py3.8\\lib\\site-packages\\transformers\\optimization.py:306: FutureWarning: This implementation of AdamW is deprecated and will be removed in a future version. Use thePyTorch implementation torch.optim.AdamW instead, or set `no_deprecation_warning=True` to disable this warning\n",
      "  warnings.warn(\n",
      "***** Running training *****\n",
      "  Num examples = 100\n",
      "  Num Epochs = 2\n",
      "  Instantaneous batch size per device = 16\n",
      "  Total train batch size (w. parallel, distributed & accumulation) = 16\n",
      "  Gradient Accumulation steps = 1\n",
      "  Total optimization steps = 14\n"
     ]
    },
    {
     "data": {
      "text/html": [
       "\n",
       "    <div>\n",
       "      \n",
       "      <progress value='8' max='14' style='width:300px; height:20px; vertical-align: middle;'></progress>\n",
       "      [ 8/14 00:12 < 00:12, 0.50 it/s, Epoch 2/2]\n",
       "    </div>\n",
       "    <table border=\"1\" class=\"dataframe\">\n",
       "  <thead>\n",
       " <tr style=\"text-align: left;\">\n",
       "      <th>Epoch</th>\n",
       "      <th>Training Loss</th>\n",
       "      <th>Validation Loss</th>\n",
       "      <th>Accuracy</th>\n",
       "    </tr>\n",
       "  </thead>\n",
       "  <tbody>\n",
       "    <tr>\n",
       "      <td>1</td>\n",
       "      <td>0.469800</td>\n",
       "      <td>0.477082</td>\n",
       "      <td>0.833333</td>\n",
       "    </tr>\n",
       "    <tr>\n",
       "      <td>2</td>\n",
       "      <td>0.460100</td>\n",
       "      <td>0.504366</td>\n",
       "      <td>0.833333</td>\n",
       "    </tr>\n",
       "  </tbody>\n",
       "</table><p>"
      ],
      "text/plain": [
       "<IPython.core.display.HTML object>"
      ]
     },
     "metadata": {},
     "output_type": "display_data"
    },
    {
     "name": "stderr",
     "output_type": "stream",
     "text": [
      "PyTorch: setting up devices\n",
      "***** Running Prediction *****\n",
      "  Num examples = 100\n",
      "  Batch size = 64\n",
      "***** Running Evaluation *****\n",
      "  Num examples = 6\n",
      "  Batch size = 64\n",
      "Saving model checkpoint to C:\\Users\\klie\\AppData\\Local\\Temp\\tmpje5qi_kh\\checkpoint-7\n",
      "Configuration saved in C:\\Users\\klie\\AppData\\Local\\Temp\\tmpje5qi_kh\\checkpoint-7\\config.json\n",
      "Model weights saved in C:\\Users\\klie\\AppData\\Local\\Temp\\tmpje5qi_kh\\checkpoint-7\\pytorch_model.bin\n",
      "PyTorch: setting up devices\n",
      "***** Running Prediction *****\n",
      "  Num examples = 100\n",
      "  Batch size = 64\n",
      "***** Running Evaluation *****\n",
      "  Num examples = 6\n",
      "  Batch size = 64\n",
      "Saving model checkpoint to C:\\Users\\klie\\AppData\\Local\\Temp\\tmpje5qi_kh\\checkpoint-8\n",
      "Configuration saved in C:\\Users\\klie\\AppData\\Local\\Temp\\tmpje5qi_kh\\checkpoint-8\\config.json\n",
      "Model weights saved in C:\\Users\\klie\\AppData\\Local\\Temp\\tmpje5qi_kh\\checkpoint-8\\pytorch_model.bin\n",
      "\n",
      "\n",
      "Training completed. Do not forget to share your model on huggingface.co/models =)\n",
      "\n",
      "\n",
      "Loading best model from C:\\Users\\klie\\AppData\\Local\\Temp\\tmpje5qi_kh\\checkpoint-7 (score: 0.8333333333333334).\n",
      "PyTorch: setting up devices\n",
      "***** Running Prediction *****\n",
      "  Num examples = 100\n",
      "  Batch size = 64\n"
     ]
    }
   ],
   "source": [
    "from nessie.detectors import LeitnerSpotter\n",
    "\n",
    "detector = LeitnerSpotter(max_epochs=2)\n",
    "scores_ls_text = detector.score(texts=text_data.texts, labels=text_data.noisy_labels)"
   ]
  },
  {
   "cell_type": "markdown",
   "metadata": {},
   "source": [
    "### Data Map Confidence\n",
    "\n",
    "This method uses the class probability for each instance's gold label across epochs as a measure of confidence.\n",
    "It has been shown that low confidence correlates well with an item having a wrong label."
   ]
  },
  {
   "cell_type": "code",
   "execution_count": 14,
   "metadata": {},
   "outputs": [
    {
     "name": "stderr",
     "output_type": "stream",
     "text": [
      "Could not locate the tokenizer configuration file, will try to use the model config instead.\n",
      "loading configuration file https://huggingface.co/distilroberta-base/resolve/main/config.json from cache at C:\\Users\\klie/.cache\\huggingface\\transformers\\42d6b7c87cbac84fcdf35aa69504a5ccfca878fcee2a1a9b9ff7a3d1297f9094.aa95727ac70adfa1aaf5c88bea30a4f5e50869c68e68bce96ef1ec41b5facf46\n",
      "Model config RobertaConfig {\n",
      "  \"_name_or_path\": \"distilroberta-base\",\n",
      "  \"architectures\": [\n",
      "    \"RobertaForMaskedLM\"\n",
      "  ],\n",
      "  \"attention_probs_dropout_prob\": 0.1,\n",
      "  \"bos_token_id\": 0,\n",
      "  \"classifier_dropout\": null,\n",
      "  \"eos_token_id\": 2,\n",
      "  \"hidden_act\": \"gelu\",\n",
      "  \"hidden_dropout_prob\": 0.1,\n",
      "  \"hidden_size\": 768,\n",
      "  \"initializer_range\": 0.02,\n",
      "  \"intermediate_size\": 3072,\n",
      "  \"layer_norm_eps\": 1e-05,\n",
      "  \"max_position_embeddings\": 514,\n",
      "  \"model_type\": \"roberta\",\n",
      "  \"num_attention_heads\": 12,\n",
      "  \"num_hidden_layers\": 6,\n",
      "  \"pad_token_id\": 1,\n",
      "  \"position_embedding_type\": \"absolute\",\n",
      "  \"transformers_version\": \"4.16.1\",\n",
      "  \"type_vocab_size\": 1,\n",
      "  \"use_cache\": true,\n",
      "  \"vocab_size\": 50265\n",
      "}\n",
      "\n",
      "loading file https://huggingface.co/distilroberta-base/resolve/main/vocab.json from cache at C:\\Users\\klie/.cache\\huggingface\\transformers\\23e0f7484fc8a320856b168861166b48c2976bb4e0861602422e1b0c3fe5bf61.d67d6b367eb24ab43b08ad55e014cf254076934f71d832bbab9ad35644a375ab\n",
      "loading file https://huggingface.co/distilroberta-base/resolve/main/merges.txt from cache at C:\\Users\\klie/.cache\\huggingface\\transformers\\c7e8020011da613ff5a9175ddad64cd47238a9525db975eb50ecb965e9f7302f.5d12962c5ee615a4c803841266e9c3be9a691a924f72d395d3a6c6c81157788b\n",
      "loading file https://huggingface.co/distilroberta-base/resolve/main/tokenizer.json from cache at C:\\Users\\klie/.cache\\huggingface\\transformers\\b6a9ca6504e67903474c3fdf82ba249882406e61c2176a9d4dc9c3691c663767.fc9576039592f026ad76a1c231b89aee8668488c671dfbe6616bab2ed298d730\n",
      "loading file https://huggingface.co/distilroberta-base/resolve/main/added_tokens.json from cache at None\n",
      "loading file https://huggingface.co/distilroberta-base/resolve/main/special_tokens_map.json from cache at None\n",
      "loading file https://huggingface.co/distilroberta-base/resolve/main/tokenizer_config.json from cache at None\n",
      "loading configuration file https://huggingface.co/distilroberta-base/resolve/main/config.json from cache at C:\\Users\\klie/.cache\\huggingface\\transformers\\42d6b7c87cbac84fcdf35aa69504a5ccfca878fcee2a1a9b9ff7a3d1297f9094.aa95727ac70adfa1aaf5c88bea30a4f5e50869c68e68bce96ef1ec41b5facf46\n",
      "Model config RobertaConfig {\n",
      "  \"_name_or_path\": \"distilroberta-base\",\n",
      "  \"architectures\": [\n",
      "    \"RobertaForMaskedLM\"\n",
      "  ],\n",
      "  \"attention_probs_dropout_prob\": 0.1,\n",
      "  \"bos_token_id\": 0,\n",
      "  \"classifier_dropout\": null,\n",
      "  \"eos_token_id\": 2,\n",
      "  \"hidden_act\": \"gelu\",\n",
      "  \"hidden_dropout_prob\": 0.1,\n",
      "  \"hidden_size\": 768,\n",
      "  \"initializer_range\": 0.02,\n",
      "  \"intermediate_size\": 3072,\n",
      "  \"layer_norm_eps\": 1e-05,\n",
      "  \"max_position_embeddings\": 514,\n",
      "  \"model_type\": \"roberta\",\n",
      "  \"num_attention_heads\": 12,\n",
      "  \"num_hidden_layers\": 6,\n",
      "  \"pad_token_id\": 1,\n",
      "  \"position_embedding_type\": \"absolute\",\n",
      "  \"transformers_version\": \"4.16.1\",\n",
      "  \"type_vocab_size\": 1,\n",
      "  \"use_cache\": true,\n",
      "  \"vocab_size\": 50265\n",
      "}\n",
      "\n",
      "loading configuration file https://huggingface.co/distilroberta-base/resolve/main/config.json from cache at C:\\Users\\klie/.cache\\huggingface\\transformers\\42d6b7c87cbac84fcdf35aa69504a5ccfca878fcee2a1a9b9ff7a3d1297f9094.aa95727ac70adfa1aaf5c88bea30a4f5e50869c68e68bce96ef1ec41b5facf46\n",
      "Model config RobertaConfig {\n",
      "  \"_name_or_path\": \"distilroberta-base\",\n",
      "  \"architectures\": [\n",
      "    \"RobertaForMaskedLM\"\n",
      "  ],\n",
      "  \"attention_probs_dropout_prob\": 0.1,\n",
      "  \"bos_token_id\": 0,\n",
      "  \"classifier_dropout\": 0.25,\n",
      "  \"eos_token_id\": 2,\n",
      "  \"hidden_act\": \"gelu\",\n",
      "  \"hidden_dropout_prob\": 0.1,\n",
      "  \"hidden_size\": 768,\n",
      "  \"initializer_range\": 0.02,\n",
      "  \"intermediate_size\": 3072,\n",
      "  \"layer_norm_eps\": 1e-05,\n",
      "  \"max_position_embeddings\": 514,\n",
      "  \"model_type\": \"roberta\",\n",
      "  \"num_attention_heads\": 12,\n",
      "  \"num_hidden_layers\": 6,\n",
      "  \"pad_token_id\": 1,\n",
      "  \"position_embedding_type\": \"absolute\",\n",
      "  \"transformers_version\": \"4.16.1\",\n",
      "  \"type_vocab_size\": 1,\n",
      "  \"use_cache\": true,\n",
      "  \"vocab_size\": 50265\n",
      "}\n",
      "\n",
      "loading weights file https://huggingface.co/distilroberta-base/resolve/main/pytorch_model.bin from cache at C:\\Users\\klie/.cache\\huggingface\\transformers\\7a0115a4c463f49bc7ab011872fc4a4b81be681a0434075955d29ac3388e225b.a6127d76576e81475313180aceb31a8688f7a649b80e380d26b5d30302dc83c1\n",
      "Some weights of the model checkpoint at distilroberta-base were not used when initializing RobertaForSequenceClassification: ['lm_head.layer_norm.weight', 'roberta.pooler.dense.weight', 'lm_head.dense.weight', 'lm_head.decoder.weight', 'lm_head.layer_norm.bias', 'roberta.pooler.dense.bias', 'lm_head.bias', 'lm_head.dense.bias']\n",
      "- This IS expected if you are initializing RobertaForSequenceClassification from the checkpoint of a model trained on another task or with another architecture (e.g. initializing a BertForSequenceClassification model from a BertForPreTraining model).\n",
      "- This IS NOT expected if you are initializing RobertaForSequenceClassification from the checkpoint of a model that you expect to be exactly identical (initializing a BertForSequenceClassification model from a BertForSequenceClassification model).\n",
      "Some weights of RobertaForSequenceClassification were not initialized from the model checkpoint at distilroberta-base and are newly initialized: ['classifier.dense.weight', 'classifier.out_proj.weight', 'classifier.dense.bias', 'classifier.out_proj.bias']\n",
      "You should probably TRAIN this model on a down-stream task to be able to use it for predictions and inference.\n",
      "PyTorch: setting up devices\n",
      "C:\\Users\\klie\\AppData\\Local\\pypoetry\\Cache\\virtualenvs\\nessie-gg3F2hhp-py3.8\\lib\\site-packages\\transformers\\optimization.py:306: FutureWarning: This implementation of AdamW is deprecated and will be removed in a future version. Use thePyTorch implementation torch.optim.AdamW instead, or set `no_deprecation_warning=True` to disable this warning\n",
      "  warnings.warn(\n",
      "***** Running training *****\n",
      "  Num examples = 100\n",
      "  Num Epochs = 2\n",
      "  Instantaneous batch size per device = 16\n",
      "  Total train batch size (w. parallel, distributed & accumulation) = 16\n",
      "  Gradient Accumulation steps = 1\n",
      "  Total optimization steps = 14\n"
     ]
    },
    {
     "data": {
      "text/html": [
       "\n",
       "    <div>\n",
       "      \n",
       "      <progress value='14' max='14' style='width:300px; height:20px; vertical-align: middle;'></progress>\n",
       "      [14/14 00:17, Epoch 2/2]\n",
       "    </div>\n",
       "    <table border=\"1\" class=\"dataframe\">\n",
       "  <thead>\n",
       " <tr style=\"text-align: left;\">\n",
       "      <th>Epoch</th>\n",
       "      <th>Training Loss</th>\n",
       "      <th>Validation Loss</th>\n",
       "      <th>Accuracy</th>\n",
       "    </tr>\n",
       "  </thead>\n",
       "  <tbody>\n",
       "    <tr>\n",
       "      <td>1</td>\n",
       "      <td>0.469800</td>\n",
       "      <td>0.391117</td>\n",
       "      <td>0.870000</td>\n",
       "    </tr>\n",
       "    <tr>\n",
       "      <td>2</td>\n",
       "      <td>0.411500</td>\n",
       "      <td>0.456696</td>\n",
       "      <td>0.870000</td>\n",
       "    </tr>\n",
       "  </tbody>\n",
       "</table><p>"
      ],
      "text/plain": [
       "<IPython.core.display.HTML object>"
      ]
     },
     "metadata": {},
     "output_type": "display_data"
    },
    {
     "name": "stderr",
     "output_type": "stream",
     "text": [
      "***** Running Evaluation *****\n",
      "  Num examples = 100\n",
      "  Batch size = 64\n",
      "Saving model checkpoint to C:\\Users\\klie\\AppData\\Local\\Temp\\tmpz7ox0h7f\\checkpoint-7\n",
      "Configuration saved in C:\\Users\\klie\\AppData\\Local\\Temp\\tmpz7ox0h7f\\checkpoint-7\\config.json\n",
      "Model weights saved in C:\\Users\\klie\\AppData\\Local\\Temp\\tmpz7ox0h7f\\checkpoint-7\\pytorch_model.bin\n",
      "***** Running Evaluation *****\n",
      "  Num examples = 100\n",
      "  Batch size = 64\n",
      "Saving model checkpoint to C:\\Users\\klie\\AppData\\Local\\Temp\\tmpz7ox0h7f\\checkpoint-14\n",
      "Configuration saved in C:\\Users\\klie\\AppData\\Local\\Temp\\tmpz7ox0h7f\\checkpoint-14\\config.json\n",
      "Model weights saved in C:\\Users\\klie\\AppData\\Local\\Temp\\tmpz7ox0h7f\\checkpoint-14\\pytorch_model.bin\n",
      "\n",
      "\n",
      "Training completed. Do not forget to share your model on huggingface.co/models =)\n",
      "\n",
      "\n",
      "Loading best model from C:\\Users\\klie\\AppData\\Local\\Temp\\tmpz7ox0h7f\\checkpoint-7 (score: 0.87).\n"
     ]
    }
   ],
   "source": [
    "# Text\n",
    "\n",
    "from nessie.detectors import DataMapConfidence\n",
    "from nessie.models.text import TransformerTextClassifier\n",
    "\n",
    "detector = DataMapConfidence(TransformerTextClassifier(max_epochs=2))\n",
    "scores_dm_text = detector.score(text_data.texts, text_data.noisy_labels)"
   ]
  },
  {
   "cell_type": "code",
   "execution_count": 30,
   "metadata": {},
   "outputs": [
    {
     "name": "stderr",
     "output_type": "stream",
     "text": [
      "Some weights of the model checkpoint at distilroberta-base were not used when initializing RobertaForTokenClassification: ['lm_head.layer_norm.weight', 'lm_head.dense.weight', 'lm_head.decoder.weight', 'lm_head.layer_norm.bias', 'lm_head.bias', 'lm_head.dense.bias']\n",
      "- This IS expected if you are initializing RobertaForTokenClassification from the checkpoint of a model trained on another task or with another architecture (e.g. initializing a BertForSequenceClassification model from a BertForPreTraining model).\n",
      "- This IS NOT expected if you are initializing RobertaForTokenClassification from the checkpoint of a model that you expect to be exactly identical (initializing a BertForSequenceClassification model from a BertForSequenceClassification model).\n",
      "Some weights of RobertaForTokenClassification were not initialized from the model checkpoint at distilroberta-base and are newly initialized: ['classifier.bias', 'classifier.weight']\n",
      "You should probably TRAIN this model on a down-stream task to be able to use it for predictions and inference.\n",
      "C:\\Users\\klie\\AppData\\Local\\pypoetry\\Cache\\virtualenvs\\nessie-gg3F2hhp-py3.8\\lib\\site-packages\\transformers\\optimization.py:306: FutureWarning: This implementation of AdamW is deprecated and will be removed in a future version. Use thePyTorch implementation torch.optim.AdamW instead, or set `no_deprecation_warning=True` to disable this warning\n",
      "  warnings.warn(\n",
      "***** Running training *****\n",
      "  Num examples = 100\n",
      "  Num Epochs = 2\n",
      "  Instantaneous batch size per device = 32\n",
      "  Total train batch size (w. parallel, distributed & accumulation) = 32\n",
      "  Gradient Accumulation steps = 1\n",
      "  Total optimization steps = 8\n"
     ]
    },
    {
     "data": {
      "text/html": [
       "\n",
       "    <div>\n",
       "      \n",
       "      <progress value='8' max='8' style='width:300px; height:20px; vertical-align: middle;'></progress>\n",
       "      [8/8 00:15, Epoch 2/2]\n",
       "    </div>\n",
       "    <table border=\"1\" class=\"dataframe\">\n",
       "  <thead>\n",
       " <tr style=\"text-align: left;\">\n",
       "      <th>Epoch</th>\n",
       "      <th>Training Loss</th>\n",
       "      <th>Validation Loss</th>\n",
       "      <th>Precision</th>\n",
       "      <th>Recall</th>\n",
       "      <th>F1</th>\n",
       "      <th>Accuracy</th>\n",
       "    </tr>\n",
       "  </thead>\n",
       "  <tbody>\n",
       "    <tr>\n",
       "      <td>1</td>\n",
       "      <td>2.036800</td>\n",
       "      <td>1.659298</td>\n",
       "      <td>0.639798</td>\n",
       "      <td>0.486590</td>\n",
       "      <td>0.552775</td>\n",
       "      <td>0.698440</td>\n",
       "    </tr>\n",
       "    <tr>\n",
       "      <td>2</td>\n",
       "      <td>1.581700</td>\n",
       "      <td>1.346324</td>\n",
       "      <td>0.610966</td>\n",
       "      <td>0.448276</td>\n",
       "      <td>0.517127</td>\n",
       "      <td>0.689775</td>\n",
       "    </tr>\n",
       "  </tbody>\n",
       "</table><p>"
      ],
      "text/plain": [
       "<IPython.core.display.HTML object>"
      ]
     },
     "metadata": {},
     "output_type": "display_data"
    },
    {
     "name": "stderr",
     "output_type": "stream",
     "text": [
      "***** Running Evaluation *****\n",
      "  Num examples = 100\n",
      "  Batch size = 64\n",
      "Saving model checkpoint to C:\\Users\\klie\\AppData\\Local\\Temp\\tmplqny7l1l\\checkpoint-4\n",
      "Configuration saved in C:\\Users\\klie\\AppData\\Local\\Temp\\tmplqny7l1l\\checkpoint-4\\config.json\n",
      "Model weights saved in C:\\Users\\klie\\AppData\\Local\\Temp\\tmplqny7l1l\\checkpoint-4\\pytorch_model.bin\n",
      "***** Running Evaluation *****\n",
      "  Num examples = 100\n",
      "  Batch size = 64\n",
      "Saving model checkpoint to C:\\Users\\klie\\AppData\\Local\\Temp\\tmplqny7l1l\\checkpoint-8\n",
      "Configuration saved in C:\\Users\\klie\\AppData\\Local\\Temp\\tmplqny7l1l\\checkpoint-8\\config.json\n",
      "Model weights saved in C:\\Users\\klie\\AppData\\Local\\Temp\\tmplqny7l1l\\checkpoint-8\\pytorch_model.bin\n",
      "\n",
      "\n",
      "Training completed. Do not forget to share your model on huggingface.co/models =)\n",
      "\n",
      "\n",
      "Loading best model from C:\\Users\\klie\\AppData\\Local\\Temp\\tmplqny7l1l\\checkpoint-4 (score: 0.6984402079722704).\n"
     ]
    }
   ],
   "source": [
    "from nessie.detectors import DataMapConfidence\n",
    "from nessie.models.tagging import TransformerSequenceTagger\n",
    "\n",
    "# Token\n",
    "detector = DataMapConfidence(TransformerSequenceTagger(max_epochs=2), needs_flattening=True)\n",
    "scores_dm_token = detector.score(token_data.sentences, token_data.noisy_labels)\n",
    "scores_dm_token_flat = ak.flatten(scores_dm_token).to_numpy()"
   ]
  },
  {
   "cell_type": "code",
   "execution_count": 33,
   "metadata": {},
   "outputs": [
    {
     "name": "stderr",
     "output_type": "stream",
     "text": [
      "Could not locate the tokenizer configuration file, will try to use the model config instead.\n",
      "loading configuration file https://huggingface.co/distilroberta-base/resolve/main/config.json from cache at C:\\Users\\klie/.cache\\huggingface\\transformers\\42d6b7c87cbac84fcdf35aa69504a5ccfca878fcee2a1a9b9ff7a3d1297f9094.aa95727ac70adfa1aaf5c88bea30a4f5e50869c68e68bce96ef1ec41b5facf46\n",
      "Model config RobertaConfig {\n",
      "  \"_name_or_path\": \"distilroberta-base\",\n",
      "  \"architectures\": [\n",
      "    \"RobertaForMaskedLM\"\n",
      "  ],\n",
      "  \"attention_probs_dropout_prob\": 0.1,\n",
      "  \"bos_token_id\": 0,\n",
      "  \"classifier_dropout\": null,\n",
      "  \"eos_token_id\": 2,\n",
      "  \"hidden_act\": \"gelu\",\n",
      "  \"hidden_dropout_prob\": 0.1,\n",
      "  \"hidden_size\": 768,\n",
      "  \"initializer_range\": 0.02,\n",
      "  \"intermediate_size\": 3072,\n",
      "  \"layer_norm_eps\": 1e-05,\n",
      "  \"max_position_embeddings\": 514,\n",
      "  \"model_type\": \"roberta\",\n",
      "  \"num_attention_heads\": 12,\n",
      "  \"num_hidden_layers\": 6,\n",
      "  \"pad_token_id\": 1,\n",
      "  \"position_embedding_type\": \"absolute\",\n",
      "  \"transformers_version\": \"4.16.1\",\n",
      "  \"type_vocab_size\": 1,\n",
      "  \"use_cache\": true,\n",
      "  \"vocab_size\": 50265\n",
      "}\n",
      "\n",
      "loading file https://huggingface.co/distilroberta-base/resolve/main/vocab.json from cache at C:\\Users\\klie/.cache\\huggingface\\transformers\\23e0f7484fc8a320856b168861166b48c2976bb4e0861602422e1b0c3fe5bf61.d67d6b367eb24ab43b08ad55e014cf254076934f71d832bbab9ad35644a375ab\n",
      "loading file https://huggingface.co/distilroberta-base/resolve/main/merges.txt from cache at C:\\Users\\klie/.cache\\huggingface\\transformers\\c7e8020011da613ff5a9175ddad64cd47238a9525db975eb50ecb965e9f7302f.5d12962c5ee615a4c803841266e9c3be9a691a924f72d395d3a6c6c81157788b\n",
      "loading file https://huggingface.co/distilroberta-base/resolve/main/tokenizer.json from cache at C:\\Users\\klie/.cache\\huggingface\\transformers\\b6a9ca6504e67903474c3fdf82ba249882406e61c2176a9d4dc9c3691c663767.fc9576039592f026ad76a1c231b89aee8668488c671dfbe6616bab2ed298d730\n",
      "loading file https://huggingface.co/distilroberta-base/resolve/main/added_tokens.json from cache at None\n",
      "loading file https://huggingface.co/distilroberta-base/resolve/main/special_tokens_map.json from cache at None\n",
      "loading file https://huggingface.co/distilroberta-base/resolve/main/tokenizer_config.json from cache at None\n",
      "loading configuration file https://huggingface.co/distilroberta-base/resolve/main/config.json from cache at C:\\Users\\klie/.cache\\huggingface\\transformers\\42d6b7c87cbac84fcdf35aa69504a5ccfca878fcee2a1a9b9ff7a3d1297f9094.aa95727ac70adfa1aaf5c88bea30a4f5e50869c68e68bce96ef1ec41b5facf46\n",
      "Model config RobertaConfig {\n",
      "  \"_name_or_path\": \"distilroberta-base\",\n",
      "  \"architectures\": [\n",
      "    \"RobertaForMaskedLM\"\n",
      "  ],\n",
      "  \"attention_probs_dropout_prob\": 0.1,\n",
      "  \"bos_token_id\": 0,\n",
      "  \"classifier_dropout\": null,\n",
      "  \"eos_token_id\": 2,\n",
      "  \"hidden_act\": \"gelu\",\n",
      "  \"hidden_dropout_prob\": 0.1,\n",
      "  \"hidden_size\": 768,\n",
      "  \"initializer_range\": 0.02,\n",
      "  \"intermediate_size\": 3072,\n",
      "  \"layer_norm_eps\": 1e-05,\n",
      "  \"max_position_embeddings\": 514,\n",
      "  \"model_type\": \"roberta\",\n",
      "  \"num_attention_heads\": 12,\n",
      "  \"num_hidden_layers\": 6,\n",
      "  \"pad_token_id\": 1,\n",
      "  \"position_embedding_type\": \"absolute\",\n",
      "  \"transformers_version\": \"4.16.1\",\n",
      "  \"type_vocab_size\": 1,\n",
      "  \"use_cache\": true,\n",
      "  \"vocab_size\": 50265\n",
      "}\n",
      "\n",
      "loading configuration file https://huggingface.co/distilroberta-base/resolve/main/config.json from cache at C:\\Users\\klie/.cache\\huggingface\\transformers\\42d6b7c87cbac84fcdf35aa69504a5ccfca878fcee2a1a9b9ff7a3d1297f9094.aa95727ac70adfa1aaf5c88bea30a4f5e50869c68e68bce96ef1ec41b5facf46\n",
      "Model config RobertaConfig {\n",
      "  \"_name_or_path\": \"distilroberta-base\",\n",
      "  \"architectures\": [\n",
      "    \"RobertaForMaskedLM\"\n",
      "  ],\n",
      "  \"attention_probs_dropout_prob\": 0.1,\n",
      "  \"bos_token_id\": 0,\n",
      "  \"classifier_dropout\": null,\n",
      "  \"eos_token_id\": 2,\n",
      "  \"hidden_act\": \"gelu\",\n",
      "  \"hidden_dropout_prob\": 0.1,\n",
      "  \"hidden_size\": 768,\n",
      "  \"id2label\": {\n",
      "    \"0\": \"B-LOC\",\n",
      "    \"1\": \"B-ORG\",\n",
      "    \"2\": \"B-PER\",\n",
      "    \"3\": \"I-LOC\",\n",
      "    \"4\": \"I-ORG\",\n",
      "    \"5\": \"I-PER\",\n",
      "    \"6\": \"O\"\n",
      "  },\n",
      "  \"initializer_range\": 0.02,\n",
      "  \"intermediate_size\": 3072,\n",
      "  \"label2id\": {\n",
      "    \"B-LOC\": 0,\n",
      "    \"B-ORG\": 1,\n",
      "    \"B-PER\": 2,\n",
      "    \"I-LOC\": 3,\n",
      "    \"I-ORG\": 4,\n",
      "    \"I-PER\": 5,\n",
      "    \"O\": 6\n",
      "  },\n",
      "  \"layer_norm_eps\": 1e-05,\n",
      "  \"max_position_embeddings\": 514,\n",
      "  \"model_type\": \"roberta\",\n",
      "  \"num_attention_heads\": 12,\n",
      "  \"num_hidden_layers\": 6,\n",
      "  \"pad_token_id\": 1,\n",
      "  \"position_embedding_type\": \"absolute\",\n",
      "  \"transformers_version\": \"4.16.1\",\n",
      "  \"type_vocab_size\": 1,\n",
      "  \"use_cache\": true,\n",
      "  \"vocab_size\": 50265\n",
      "}\n",
      "\n",
      "loading weights file https://huggingface.co/distilroberta-base/resolve/main/pytorch_model.bin from cache at C:\\Users\\klie/.cache\\huggingface\\transformers\\7a0115a4c463f49bc7ab011872fc4a4b81be681a0434075955d29ac3388e225b.a6127d76576e81475313180aceb31a8688f7a649b80e380d26b5d30302dc83c1\n",
      "Some weights of the model checkpoint at distilroberta-base were not used when initializing RobertaForTokenClassification: ['lm_head.layer_norm.weight', 'lm_head.dense.weight', 'lm_head.decoder.weight', 'lm_head.layer_norm.bias', 'lm_head.bias', 'lm_head.dense.bias']\n",
      "- This IS expected if you are initializing RobertaForTokenClassification from the checkpoint of a model trained on another task or with another architecture (e.g. initializing a BertForSequenceClassification model from a BertForPreTraining model).\n",
      "- This IS NOT expected if you are initializing RobertaForTokenClassification from the checkpoint of a model that you expect to be exactly identical (initializing a BertForSequenceClassification model from a BertForSequenceClassification model).\n",
      "Some weights of RobertaForTokenClassification were not initialized from the model checkpoint at distilroberta-base and are newly initialized: ['classifier.bias', 'classifier.weight']\n",
      "You should probably TRAIN this model on a down-stream task to be able to use it for predictions and inference.\n",
      "PyTorch: setting up devices\n",
      "C:\\Users\\klie\\AppData\\Local\\pypoetry\\Cache\\virtualenvs\\nessie-gg3F2hhp-py3.8\\lib\\site-packages\\transformers\\optimization.py:306: FutureWarning: This implementation of AdamW is deprecated and will be removed in a future version. Use thePyTorch implementation torch.optim.AdamW instead, or set `no_deprecation_warning=True` to disable this warning\n",
      "  warnings.warn(\n",
      "***** Running training *****\n",
      "  Num examples = 100\n",
      "  Num Epochs = 2\n",
      "  Instantaneous batch size per device = 32\n",
      "  Total train batch size (w. parallel, distributed & accumulation) = 32\n",
      "  Gradient Accumulation steps = 1\n",
      "  Total optimization steps = 8\n"
     ]
    },
    {
     "data": {
      "text/html": [
       "\n",
       "    <div>\n",
       "      \n",
       "      <progress value='8' max='8' style='width:300px; height:20px; vertical-align: middle;'></progress>\n",
       "      [8/8 00:20, Epoch 2/2]\n",
       "    </div>\n",
       "    <table border=\"1\" class=\"dataframe\">\n",
       "  <thead>\n",
       " <tr style=\"text-align: left;\">\n",
       "      <th>Epoch</th>\n",
       "      <th>Training Loss</th>\n",
       "      <th>Validation Loss</th>\n",
       "      <th>Precision</th>\n",
       "      <th>Recall</th>\n",
       "      <th>F1</th>\n",
       "      <th>Accuracy</th>\n",
       "    </tr>\n",
       "  </thead>\n",
       "  <tbody>\n",
       "    <tr>\n",
       "      <td>1</td>\n",
       "      <td>1.803400</td>\n",
       "      <td>1.469422</td>\n",
       "      <td>0.000000</td>\n",
       "      <td>0.000000</td>\n",
       "      <td>0.000000</td>\n",
       "      <td>0.491961</td>\n",
       "    </tr>\n",
       "    <tr>\n",
       "      <td>2</td>\n",
       "      <td>1.384800</td>\n",
       "      <td>1.258313</td>\n",
       "      <td>0.000000</td>\n",
       "      <td>0.000000</td>\n",
       "      <td>0.000000</td>\n",
       "      <td>0.491961</td>\n",
       "    </tr>\n",
       "  </tbody>\n",
       "</table><p>"
      ],
      "text/plain": [
       "<IPython.core.display.HTML object>"
      ]
     },
     "metadata": {},
     "output_type": "display_data"
    },
    {
     "name": "stderr",
     "output_type": "stream",
     "text": [
      "***** Running Evaluation *****\n",
      "  Num examples = 100\n",
      "  Batch size = 64\n",
      "Saving model checkpoint to C:\\Users\\klie\\AppData\\Local\\Temp\\tmp52onh3n8\\checkpoint-4\n",
      "Configuration saved in C:\\Users\\klie\\AppData\\Local\\Temp\\tmp52onh3n8\\checkpoint-4\\config.json\n",
      "Model weights saved in C:\\Users\\klie\\AppData\\Local\\Temp\\tmp52onh3n8\\checkpoint-4\\pytorch_model.bin\n",
      "***** Running Evaluation *****\n",
      "  Num examples = 100\n",
      "  Batch size = 64\n",
      "Saving model checkpoint to C:\\Users\\klie\\AppData\\Local\\Temp\\tmp52onh3n8\\checkpoint-8\n",
      "Configuration saved in C:\\Users\\klie\\AppData\\Local\\Temp\\tmp52onh3n8\\checkpoint-8\\config.json\n",
      "Model weights saved in C:\\Users\\klie\\AppData\\Local\\Temp\\tmp52onh3n8\\checkpoint-8\\pytorch_model.bin\n",
      "\n",
      "\n",
      "Training completed. Do not forget to share your model on huggingface.co/models =)\n",
      "\n",
      "\n",
      "Loading best model from C:\\Users\\klie\\AppData\\Local\\Temp\\tmp52onh3n8\\checkpoint-4 (score: 0.4919614147909968).\n"
     ]
    }
   ],
   "source": [
    "from nessie.detectors import DataMapConfidence\n",
    "from nessie.models.tagging import TransformerSequenceTagger\n",
    "from nessie.task_support.span_labeling import aggregate_scores_to_spans\n",
    "\n",
    "# Span\n",
    "detector = DataMapConfidence(TransformerSequenceTagger(max_epochs=2), needs_flattening=True)\n",
    "scores_dm_span = detector.score(span_data.sentences, span_data.noisy_labels)\n",
    "scores_dm_span = aggregate_scores_to_spans(span_data.noisy_labels, scores_dm_span)\n",
    "scores_dm_span = ak.flatten(scores_dm_span).to_numpy()"
   ]
  },
  {
   "cell_type": "markdown",
   "metadata": {},
   "source": [
    "## Vector Space Proximity\n",
    "\n",
    "Approaches of this kind leverage dense embeddings of tokens, spans, and texts into a vector space and use their distribution therein.\n",
    "The distance of an instance to semantically similar instances is expected to be smaller than the distance to semantically different ones.\n",
    "Embeddings are typically obtained by using BERT-type models  for tokens and spans or S-BERT for  sentences."
   ]
  },
  {
   "cell_type": "code",
   "execution_count": 16,
   "metadata": {},
   "outputs": [
    {
     "name": "stderr",
     "output_type": "stream",
     "text": [
      "loading configuration file C:\\Users\\klie/.cache\\torch\\sentence_transformers\\sentence-transformers_all-mpnet-base-v2\\config.json\n",
      "Model config MPNetConfig {\n",
      "  \"_name_or_path\": \"C:\\\\Users\\\\klie/.cache\\\\torch\\\\sentence_transformers\\\\sentence-transformers_all-mpnet-base-v2\\\\\",\n",
      "  \"architectures\": [\n",
      "    \"MPNetForMaskedLM\"\n",
      "  ],\n",
      "  \"attention_probs_dropout_prob\": 0.1,\n",
      "  \"bos_token_id\": 0,\n",
      "  \"eos_token_id\": 2,\n",
      "  \"hidden_act\": \"gelu\",\n",
      "  \"hidden_dropout_prob\": 0.1,\n",
      "  \"hidden_size\": 768,\n",
      "  \"initializer_range\": 0.02,\n",
      "  \"intermediate_size\": 3072,\n",
      "  \"layer_norm_eps\": 1e-05,\n",
      "  \"max_position_embeddings\": 514,\n",
      "  \"model_type\": \"mpnet\",\n",
      "  \"num_attention_heads\": 12,\n",
      "  \"num_hidden_layers\": 12,\n",
      "  \"pad_token_id\": 1,\n",
      "  \"relative_attention_num_buckets\": 32,\n",
      "  \"transformers_version\": \"4.16.1\",\n",
      "  \"vocab_size\": 30527\n",
      "}\n",
      "\n",
      "loading weights file C:\\Users\\klie/.cache\\torch\\sentence_transformers\\sentence-transformers_all-mpnet-base-v2\\pytorch_model.bin\n",
      "All model checkpoint weights were used when initializing MPNetModel.\n",
      "\n",
      "All the weights of MPNetModel were initialized from the model checkpoint at C:\\Users\\klie/.cache\\torch\\sentence_transformers\\sentence-transformers_all-mpnet-base-v2\\.\n",
      "If your task is similar to the task the model of the checkpoint was trained on, you can already use MPNetModel for predictions without further training.\n",
      "Didn't find file C:\\Users\\klie/.cache\\torch\\sentence_transformers\\sentence-transformers_all-mpnet-base-v2\\added_tokens.json. We won't load it.\n",
      "loading file C:\\Users\\klie/.cache\\torch\\sentence_transformers\\sentence-transformers_all-mpnet-base-v2\\vocab.txt\n",
      "loading file C:\\Users\\klie/.cache\\torch\\sentence_transformers\\sentence-transformers_all-mpnet-base-v2\\tokenizer.json\n",
      "loading file None\n",
      "loading file C:\\Users\\klie/.cache\\torch\\sentence_transformers\\sentence-transformers_all-mpnet-base-v2\\special_tokens_map.json\n",
      "loading file C:\\Users\\klie/.cache\\torch\\sentence_transformers\\sentence-transformers_all-mpnet-base-v2\\tokenizer_config.json\n"
     ]
    }
   ],
   "source": [
    "# Prepare the embeddings\n",
    "from nessie.models.featurizer import CachedSentenceTransformer, FlairTokenEmbeddingsWrapper\n",
    "from flair.embeddings import TransformerWordEmbeddings\n",
    "\n",
    "# Text\n",
    "sentence_embedder = CachedSentenceTransformer()\n",
    "sentence_embeddings = sentence_embedder.embed(text_data.texts)\n",
    "\n",
    "# Token\n",
    "token_embedder = FlairTokenEmbeddingsWrapper(TransformerWordEmbeddings())\n",
    "token_embeddings = token_embedder.embed(token_data.sentences, flat=True)\n",
    "\n",
    "# Span\n",
    "from nessie.task_support.span_labeling import embed_spans\n",
    "\n",
    "span_embeddings = embed_spans(span_data.sentences, span_data.noisy_labels, token_embedder)"
   ]
  },
  {
   "cell_type": "markdown",
   "metadata": {},
   "source": [
    "### Mean Distance\n",
    "\n",
    "This method computes the centroid of each class by averaging vector embeddings of the respective instances.\n",
    "Items are then scored by the distance from their embedding vector to their centroid.\n",
    "The underlying assumption is that semantically similar items should have the same label and be close together (and thereby to the mean embedding) in the vector space."
   ]
  },
  {
   "cell_type": "code",
   "execution_count": 17,
   "metadata": {},
   "outputs": [],
   "source": [
    "from nessie.detectors import MeanDistance\n",
    "\n",
    "detector = MeanDistance()\n",
    "\n",
    "# Text\n",
    "scores_md_text = detector.score(labels=text_data.noisy_labels, embedded_instances=sentence_embeddings)\n",
    "\n",
    "# Token\n",
    "scores_md_token_flat = detector.score(labels=token_data_flat.noisy_labels, embedded_instances=token_embeddings)\n",
    "scores_md_token = ak.unflatten(scores_md_token_flat, token_data.sizes)\n",
    "\n",
    "# Span\n",
    "scores_md_span = detector.score(labels=span_noisy_entities, embedded_instances=ak.flatten(span_embeddings).to_numpy())"
   ]
  },
  {
   "cell_type": "markdown",
   "metadata": {},
   "source": [
    "### k-Nearest-Neighbor Entropy\n",
    "\n",
    "For this method, all instances are first embedded into a vector space.\n",
    "Then, for every instance to check, its *k* nearest neighbors based on Euclidean distance in the vector space are retrieved.\n",
    "Their distances to the item's embedding vector are then used to compute a distribution over labels via applying softmax.\n",
    "An instance's score is then the entropy of its distance distribution; if it is large, it indicates uncertainty, hinting at being mislabeled."
   ]
  },
  {
   "cell_type": "code",
   "execution_count": 18,
   "metadata": {},
   "outputs": [
    {
     "name": "stderr",
     "output_type": "stream",
     "text": [
      "100%|███████████████████████████████████████████████████████████████████████████████████████████████████████████████████████████████████████████████████████████████████████| 100/100 [00:00<00:00, 5859.03it/s]\n",
      "100%|███████████████████████████████████████████████████████████████████████████████████████████████████████████████████████████████████████████████████████████████████████| 577/577 [00:00<00:00, 2244.88it/s]\n",
      "100%|███████████████████████████████████████████████████████████████████████████████████████████████████████████████████████████████████████████████████████████████████████| 200/200 [00:00<00:00, 4348.14it/s]\n"
     ]
    }
   ],
   "source": [
    "from nessie.detectors import KnnEntropy\n",
    "\n",
    "detector = KnnEntropy()\n",
    "\n",
    "# Text\n",
    "scores_knn_text = detector.score(labels=text_data.noisy_labels, embedded_instances=sentence_embeddings)\n",
    "\n",
    "# Token\n",
    "scores_knn_token_flat = detector.score(labels=token_data_flat.noisy_labels, embedded_instances=token_embeddings)\n",
    "scores_knn_token = ak.unflatten(scores_knn_token_flat, token_data.sizes)\n",
    "\n",
    "# Span\n",
    "scores_knn_span = detector.score(labels=span_noisy_entities, embedded_instances=ak.flatten(span_embeddings).to_numpy()) "
   ]
  },
  {
   "cell_type": "markdown",
   "metadata": {},
   "source": [
    "## Ensembling\n",
    "\n",
    "Ensembling methods combine the scores or predictions of several individual flagger or scorer to obtain better performance than the sum of their parts."
   ]
  },
  {
   "cell_type": "code",
   "execution_count": 19,
   "metadata": {},
   "outputs": [],
   "source": [
    "from nessie.helper import CrossValidationHelper\n",
    "from nessie.models.text import DummyTextClassifier\n",
    "from nessie.models.tagging import DummySequenceTagger\n",
    "\n",
    "num_splits = 3 # Usually 10 is a good number, we use 3 for simplicity\n",
    "cv = CrossValidationHelper(n_splits=num_splits)    "
   ]
  },
  {
   "cell_type": "code",
   "execution_count": 20,
   "metadata": {},
   "outputs": [],
   "source": [
    "# Text\n",
    "\n",
    "# Replace these with non-dummy models\n",
    "models = [DummyTextClassifier(), DummyTextClassifier(), DummyTextClassifier()]\n",
    "collected_tc_predictions = []\n",
    "for model in models:\n",
    "    result = cv.run(text_data.texts, text_data.noisy_labels, model)    \n",
    "    collected_tc_predictions.append(result.predictions)"
   ]
  },
  {
   "cell_type": "code",
   "execution_count": 21,
   "metadata": {},
   "outputs": [],
   "source": [
    "# Token\n",
    "\n",
    "# Replace these with non-dummy models\n",
    "models = [DummySequenceTagger(), DummySequenceTagger(), DummySequenceTagger()]\n",
    "collected_tl_predictions = []\n",
    "for model in models:\n",
    "    result = cv.run_for_ragged(token_data.sentences, token_data.noisy_labels, model)    \n",
    "    collected_tl_predictions.append(result.flatten().predictions)"
   ]
  },
  {
   "cell_type": "code",
   "execution_count": 22,
   "metadata": {},
   "outputs": [],
   "source": [
    "# Span\n",
    "\n",
    "# Replace these with non-dummy models\n",
    "models = [DummySequenceTagger(), DummySequenceTagger(), DummySequenceTagger()]\n",
    "collected_sl_predictions = []\n",
    "for model in models:\n",
    "    result = cv.run_for_ragged(span_data.sentences, span_data.noisy_labels, model)    \n",
    "    result_aligned = align_span_labeling_result(span_data.noisy_labels, result)\n",
    "    collected_sl_predictions.append(result_aligned.predictions)"
   ]
  },
  {
   "cell_type": "markdown",
   "metadata": {},
   "source": [
    "### Diverse Ensemble\n",
    "\n",
    "Instead of using a single prediction like *Retag* does, here, the predictions of several models are aggregated.\n",
    "If most of them disagree on the label for an instance, then it is likely to be an annotation error."
   ]
  },
  {
   "cell_type": "code",
   "execution_count": 23,
   "metadata": {},
   "outputs": [],
   "source": [
    "from nessie.detectors import MajorityVotingEnsemble\n",
    "\n",
    "detector = MajorityVotingEnsemble()\n",
    "\n",
    "# Text\n",
    "flags = detector.score(text_data.noisy_labels, collected_tc_predictions)\n",
    "\n",
    "# Token\n",
    "flags = detector.score(token_data_flat.noisy_labels, collected_tl_predictions)\n",
    "\n",
    "# Span\n",
    "flags = detector.score(span_noisy_entities, collected_sl_predictions)"
   ]
  },
  {
   "cell_type": "markdown",
   "metadata": {},
   "source": [
    "### Item Response Theory\n",
    "\n",
    "Item Response Theory is a mathematical framework to model relationships between measured responses of test  subjects (e.g. answers to questions in an exam) for an underlying, latent trait  (e.g. the overall grasp on the subject that is tested).\n",
    "It can also be used to estimate the discriminative power of an item, i.e. how well the response to a question can be used to distinguish between subjects of different ability.\n",
    "In the context of AED, test subjects are trained models, the observations are the predictions on the dataset and the latent trait is task performance."
   ]
  },
  {
   "cell_type": "code",
   "execution_count": 24,
   "metadata": {},
   "outputs": [
    {
     "name": "stderr",
     "output_type": "stream",
     "text": [
      "100%|██████████████████████████████████████████████████████████████████████████████████████████████████████████████████████████████████████████████| 5/5 [00:00<00:00, 111.09it/s, [epoch 0001] loss: 2716.7691]\n",
      "100%|█████████████████████████████████████████████████████████████████████████████████████████████████████████████████████████████████████████████| 5/5 [00:00<00:00, 109.59it/s, [epoch 0001] loss: 97698.9864]\n",
      "100%|██████████████████████████████████████████████████████████████████████████████████████████████████████████████████████████████████████████████| 5/5 [00:00<00:00, 113.85it/s, [epoch 0001] loss: 1570.0590]\n"
     ]
    }
   ],
   "source": [
    "from nessie.detectors import ItemResponseTheoryFlagger\n",
    "\n",
    "detector = ItemResponseTheoryFlagger(num_iters=5) # Use 10,000 in real code\n",
    "\n",
    "# Text\n",
    "flags = detector.score(text_data.noisy_labels, collected_tc_predictions)\n",
    "\n",
    "# Token\n",
    "flags = detector.score(token_data_flat.noisy_labels, collected_tl_predictions)\n",
    "\n",
    "# Span\n",
    "flags = detector.score(span_noisy_entities, collected_sl_predictions)"
   ]
  },
  {
   "cell_type": "markdown",
   "metadata": {},
   "source": [
    "### Projection Ensemble\n",
    "\n",
    "This method trains an ensemble of logistic regression models on different Gaussian projections of BERT embeddings.\n",
    "If most of them disagree on the label for an instance, then it is likely to be an annotation error."
   ]
  },
  {
   "cell_type": "code",
   "execution_count": 25,
   "metadata": {},
   "outputs": [],
   "source": [
    "from nessie.detectors import MaxEntProjectionEnsemble\n",
    "\n",
    "detector = MaxEntProjectionEnsemble(n_components=[32, 64], seeds=[42], max_iter=100) # Use the defaults in real code\n",
    "\n",
    "# TODO: Write me"
   ]
  },
  {
   "cell_type": "markdown",
   "metadata": {},
   "source": [
    "### Borda Count\n",
    "\n",
    "Similarly to combining several flagger into an ensemble, rankings obtained from different scorer can be combined as well.\n",
    "Here we leverage Borda counts, a voting scheme that assigns points based on their ranking.\n",
    "For each scorer, given scores for *N* instances, the instance that is ranked the highest is given *N* points, the second-highest *N-1* and so on.\n",
    "The points assigned by different scorers are then summed up for each instance and form the aggregated ranking.\n",
    "From out experiments, it is best to use only a few and well performing scorer when aggregating them way."
   ]
  },
  {
   "cell_type": "code",
   "execution_count": 34,
   "metadata": {},
   "outputs": [],
   "source": [
    "import numpy as np\n",
    "\n",
    "scores_text = np.vstack([\n",
    "    scores_cu_text, scores_pm_text, # scores_du_text, \n",
    "    scores_ls_text, scores_cs_text, scores_dm_text, scores_md_text, scores_knn_text\n",
    "])\n",
    "\n",
    "scores_token = np.vstack([\n",
    "    scores_cu_token_flat, scores_pm_token_flat, # scores_du_token_flat, \n",
    "    scores_dm_token_flat, scores_md_token_flat, scores_knn_token_flat,\n",
    "])\n",
    "\n",
    "scores_span = np.vstack([\n",
    "    scores_cu_span, scores_pm_span, # scores_du_span, \n",
    "    scores_dm_span, scores_md_span,scores_knn_span,\n",
    "])\n",
    "\n"
   ]
  },
  {
   "cell_type": "code",
   "execution_count": 37,
   "metadata": {},
   "outputs": [],
   "source": [
    "from nessie.detectors import BordaCount\n",
    "\n",
    "detector = BordaCount()\n",
    "\n",
    "# Text\n",
    "scores_bc_text = detector.score(scores_text)\n",
    "\n",
    "# Token\n",
    "scores_bc_token_flat = detector.score(scores_token)\n",
    "\n",
    "# Span\n",
    "scores_bc_span = detector.score(scores_span)"
   ]
  }
 ],
 "metadata": {
  "kernelspec": {
   "display_name": "Python 3 (ipykernel)",
   "language": "python",
   "name": "python3"
  },
  "language_info": {
   "codemirror_mode": {
    "name": "ipython",
    "version": 3
   },
   "file_extension": ".py",
   "mimetype": "text/x-python",
   "name": "python",
   "nbconvert_exporter": "python",
   "pygments_lexer": "ipython3",
   "version": "3.8.2"
  }
 },
 "nbformat": 4,
 "nbformat_minor": 1
}
